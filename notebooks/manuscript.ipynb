{
 "cells": [
  {
   "cell_type": "code",
   "execution_count": 9,
   "metadata": {},
   "outputs": [
    {
     "data": {
      "text/html": [
       "<style>.container { width:70% !important; }</style>"
      ],
      "text/plain": [
       "<IPython.core.display.HTML object>"
      ]
     },
     "metadata": {},
     "output_type": "display_data"
    }
   ],
   "source": [
    "import os\n",
    "import sys\n",
    "ROOT_DIR = os.path.dirname(os.path.abspath('.'))\n",
    "sys.path.insert(0, os.path.abspath(ROOT_DIR))\n",
    "\n",
    "%load_ext autoreload\n",
    "%autoreload 2\n",
    "\n",
    "from src import packages, display\n",
    "packages()\n",
    "display()"
   ]
  },
  {
   "cell_type": "markdown",
   "metadata": {},
   "source": [
    "# Prologue\n",
    "<br/>\n",
    "\n",
    "How does the theorist intuit physical law? According to Einstein: \"The theorist's method involved postulating foundational principles from which [they] can deduce conclusions.\" How does one find new principles? Einstein: \"Here there is no method capable of being learned and systematically applied so that it leads to a new [principle].\" Here the theorist must rely on *guiding principles:* \"tastes\" derived from gut intutions of the Nature of physical law. By consuming enough physics (conceptually and analytically), the theorist concocts a web of connections, weeding out what they believe to be a seperation between what is and is not fundamental. It is from this graph of knowledge they learn their tastes and adopt a set of guiding principles from which their work depends.\n",
    "<br/>\n",
    "<br/>\n",
    "D.T. Suzuki, one the great scholars of Zen Buddhism, invented the distinction between *vijnana*, meaning analytical knowledge: dissecting, describing, discriminating, accumulating, and *prajna*, meaning intuitive understanding: grasping reality in its totality through insight. I like to think of vijnana as the process of adding vertices in a knowledge graph and prajna as the process of adding edges. Vijnana is the accumulation of chunks of knowledge (e.g., the observed universal acceleration scale of galaxies and the expansion of the cosmos, the generalized uncertainty principle, T-duality, and conformal invariance). Prajna is the intuiting of their *innerconnectedness.* It is the search of structure in the *potential relations* between the data (observed and theoretical). I think of prajna as the *topology* of physical knowledge---what is fundamental is the irreducible connectedness (or logical consistency) of Natural law. The spaces between knowledge are the scaffoldings of the imagination, the arena where creativty is birthed. A field whose fruits, I beleive, bear new foundational principles from which observable consequences follow.\n",
    "<br/>\n",
    "<br/>\n",
    "A central theme of the program is the following **quest**: *Define a graph G = (V, E), where the vertex set V are clues and the edge set E are their relations. Find a compendium of clues C = (V', E') that reduce to irreducible axioms whose self-consistency is expressed as the {Schrodinger equation}.* I use curly braces to signify the choice of the equation is up to the traveler. The object in the curly braces also need not be an equation. It could be an S-matrix, an inner-product space, or whatever mathematical object suits the traveler's desire.\n",
    "<br/>\n",
    "<br/>\n",
    ">**Quest Accepted**"
   ]
  },
  {
   "cell_type": "markdown",
   "metadata": {},
   "source": [
    "# Act I\n",
    "Welcome to the shadowlands of the unknown, brave traveler. We get few who fear not our Black Universe. Tell me: If I granted one wish and that wish was knowledge of one thing, what would it be? {*Cosmogenisus. I want to know what happened at the cosmological singularity 13.8 billion years ago.}* Ah, the oldest question there is: where did it all come from? *Yes!* Your journey begins at the foundations of quantum mechanics. This is the way.\n",
    "<br/>\n",
    "<br/>\n",
    "\n",
    "\n",
    "> ## Abstract\n",
    "I devise a novel minimalistic-bootstrap program and attempt to derive the Hamiltonian acting on the wavefunction of the Universe. A new cosmological *denk\\\"{o}konomie* is presented and a new path to general relativity from elementary quantum mechanics is charted.\n",
    "<br/>\n",
    "<br/>\n",
    "> ## Introduction\n",
    "The quantum-first program---the idea that spacetime emerges from the wavefunction of the Universe---has recently been proposed by Carroll [cite]. This Everettian view is austere: if the Universe as a whole is quantum mechanical, then it must *always* obey the Schr\\\"{o}dinger equation. Instead of quantizing gravity it makes more sense to find gravity within quantum mechanics (QM). In this Letter, I propose a novel bootstrap technique in an attempt to calculate the universal Hamiltonian and derive general relativity (GR) through self-consistency constraints. Inspired by Chew's \"nuclear democracy,\" I advocate a universal democracy unifying the concepts of Lemaître's primordial atom hypothesis with the \"one-particle universe\" picture of Wheeler and Feynman. Undergirding this work is the Turokian vision of physics: the Universe as a whole is simple and simple phenomenon demand simple explanations. I turn to decades of tantalizing clues in the literature. A compendium of clues is assembled. Deep regularities and unexpected simplicity in the structure of known physical law is pointed out. Three general principles are put forth for the bootstrap. A Schr\\\"{o}dinger equation with Wheeler-DeWitt form is derived and solved exactly.\n",
    "\n"
   ]
  }
 ],
 "metadata": {
  "kernelspec": {
   "display_name": "Python 3",
   "language": "python",
   "name": "python3"
  },
  "language_info": {
   "codemirror_mode": {
    "name": "ipython",
    "version": 3
   },
   "file_extension": ".py",
   "mimetype": "text/x-python",
   "name": "python",
   "nbconvert_exporter": "python",
   "pygments_lexer": "ipython3",
   "version": "3.8.3"
  }
 },
 "nbformat": 4,
 "nbformat_minor": 2
}
