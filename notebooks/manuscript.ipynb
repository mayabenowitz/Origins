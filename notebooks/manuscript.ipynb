{
 "cells": [
  {
   "cell_type": "code",
   "execution_count": 9,
   "metadata": {},
   "outputs": [
    {
     "data": {
      "text/html": [
       "<style>.container { width:70% !important; }</style>"
      ],
      "text/plain": [
       "<IPython.core.display.HTML object>"
      ]
     },
     "metadata": {},
     "output_type": "display_data"
    }
   ],
   "source": [
    "import os\n",
    "import sys\n",
    "ROOT_DIR = os.path.dirname(os.path.abspath('.'))\n",
    "sys.path.insert(0, os.path.abspath(ROOT_DIR))\n",
    "\n",
    "%load_ext autoreload\n",
    "%autoreload 2\n",
    "\n",
    "from src import packages, display\n",
    "packages()\n",
    "display()"
   ]
  },
  {
   "cell_type": "markdown",
   "metadata": {},
   "source": [
    "# Prologue\n",
    "<br/>\n",
    "\n",
    "How does the theorist intuit physical law? According to Einstein: \"The theorist's method involved postulating foundational principles from which [they] can deduce conclusions.\" How does one find new principles? Einstein: \"Here there is no method capable of being learned and systematically applied so that it leads to a new [principle].\" Here the theorist must rely on *guiding principles:* \"tastes\" derived from gut intutions of the Nature of physical law. By consuming enough physics (conceptually and analytically), the theorist concocts a web of connections, weeding out what they believe to be a seperation between what is and is not fundamental. It is from this graph of knowledge they learn their tastes and adopt a set of guiding principles from which their work depends.\n",
    "<br/>\n",
    "<br/>\n",
    "D.T. Suzuki, one the great scholars of Zen Buddhism, invented the distinction between *vijnana*, meaning analytical knowledge: dissecting, describing, discriminating, accumulating, and *prajna*, meaning intuitive understanding: grasping reality in its totality through insight. I like to think of vijnana as the process of adding vertices in a knowledge graph and prajna as the process of adding edges. Vijna is the accumulation of atomic units of knowledge (e.g., the universal acceleration scale of galaxies and the expansion of the cosmos, the generalized uncertainty principle, T-duality, and conformal invariance). Prajna is the intuiting of their *innerconnectedness.* It is the search of structure in the *potential relations* between the data (observed and theoretical) that brings life to the theorist's creativity. The space between knowledge is the scaffolding of new foundational principles. \n",
    "<br/>\n",
    "<br/>\n",
    "In this program, I attempt to assemble enough puzzle pieces (clues in the literature) and introduce new principles by learning how they fit together. I disect the manuscript (prepared five-page Letter) in more detail here."
   ]
  },
  {
   "cell_type": "markdown",
   "metadata": {},
   "source": [
    "# Act I\n",
    "<br/>\n",
    "\n",
    "In this act I discuss the underlying conceptual theme of the program and its motivations. Let us revist the abstract and introduction.\n",
    "\n",
    "> ## Abstract\n",
    "I devise a novel minimalistic-bootstrap program and attempt to derive the Hamiltonian acting on the wavefunction of the Universe. A new cosmological *denk\\\"{o}konomie* is presented and a new path to general relativity from elementary quantum mechanics is charted.\n",
    "<br/>\n",
    "<br/>\n",
    "> ## Introduction\n",
    "The quantum-first program---the idea that spacetime emerges from the wavefunction of the Universe---has recently been proposed by Carroll [cite]. This Everettian view is austere: if the Universe as a whole is quantum mechanical, then it must *always* obey the Schr\\\"{o}dinger equation. Instead of quantizing gravity it makes more sense to find gravity within quantum mechanics (QM). In this Letter, I propose a novel bootstrap technique in an attempt to calculate the universal Hamiltonian and derive general relativity (GR) through self-consistency constraints. Inspired by Chew's \"nuclear democracy,\" I advocate a universal democracy unifying the concepts of Lemaître's primordial atom hypothesis with the \"one-particle universe\" picture of Wheeler and Feynman. Undergirding this work is the Turokian vision of physics: the Universe as a whole is simple and simple phenomenon demand simple explanations. I turn to decades of tantalizing clues in the literature. A compendium of clues is assembled. Deep regularities and unexpected simplicity in the structure of known physical law is pointed out. Three general principles are put forth for the bootstrap. A Schr\\\"{o}dinger equation with Wheeler-DeWitt form is derived and solved exactly."
   ]
  }
 ],
 "metadata": {
  "kernelspec": {
   "display_name": "Python 3",
   "language": "python",
   "name": "python3"
  },
  "language_info": {
   "codemirror_mode": {
    "name": "ipython",
    "version": 3
   },
   "file_extension": ".py",
   "mimetype": "text/x-python",
   "name": "python",
   "nbconvert_exporter": "python",
   "pygments_lexer": "ipython3",
   "version": "3.7.3"
  }
 },
 "nbformat": 4,
 "nbformat_minor": 2
}
